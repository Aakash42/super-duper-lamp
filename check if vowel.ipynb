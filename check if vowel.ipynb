{
 "cells": [
  {
   "cell_type": "code",
   "execution_count": 17,
   "metadata": {},
   "outputs": [
    {
     "name": "stdout",
     "output_type": "stream",
     "text": [
      "Enter a charactera\n",
      "True\n"
     ]
    }
   ],
   "source": [
    "\n",
    "\n",
    "def checker(string):\n",
    "    if (string =='a' or string=='e'or string=='i' or string=='o'or string=='u' or string=='A' or string=='E' or string=='I' or string=='O' or string=='U'):\n",
    "        return True\n",
    "    else:\n",
    "        return False\n",
    "    \n",
    "s=input(\"Enter a character\")\n",
    "print(checker(s))"
   ]
  }
 ],
 "metadata": {
  "kernelspec": {
   "display_name": "Python 3",
   "language": "python",
   "name": "python3"
  },
  "language_info": {
   "codemirror_mode": {
    "name": "ipython",
    "version": 3
   },
   "file_extension": ".py",
   "mimetype": "text/x-python",
   "name": "python",
   "nbconvert_exporter": "python",
   "pygments_lexer": "ipython3",
   "version": "3.7.3"
  }
 },
 "nbformat": 4,
 "nbformat_minor": 2
}
